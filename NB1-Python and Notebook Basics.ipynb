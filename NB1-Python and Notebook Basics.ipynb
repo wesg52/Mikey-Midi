{
 "cells": [
  {
   "cell_type": "markdown",
   "metadata": {},
   "source": [
    "# Notebook 1\n",
    "\n",
    "## How to use Jupyter Notebook\n",
    "\n",
    "This is what a jupyter notebook looks like. Lets get a feel for the environment before we do too much python. The basic unit of a notebook is a cell. This is a markdown cell, a basic text processing language. If you double click on this cell you can edit it. To run a cell you can click the play button or use `shift+enter` to run this cell and put your cursor at the next cell or run `ctrl+enter` to keep your cursor at this cell. You can see the type of cell from the drop down on the right side of the toolbar. We will just use code and markdown cells.\n",
    "\n",
    "\n",
    "Try editing this cell, adding something you have learned thus far.\n",
    "\n",
    "Answer:"
   ]
  },
  {
   "cell_type": "markdown",
   "metadata": {},
   "source": [
    "The rest of jupyter is pretty intuitive so just hover over the icons and they will tell you what they do. Look stuff up or ask me if you can't figure out how to do something.\n",
    "\n",
    "\n",
    "## Intro Python\n",
    "### Variables\n",
    "Now for basic code cells. Jupyter saves intermediate values so if you create a variable (run the cell)"
   ]
  },
  {
   "cell_type": "code",
   "execution_count": null,
   "metadata": {},
   "outputs": [],
   "source": [
    "my_first_variable = 42"
   ]
  },
  {
   "cell_type": "markdown",
   "metadata": {},
   "source": [
    "Then this variable will be saved throughout the lifetime of the script. You can select kernel > restart if you want to clear all variable bindings. "
   ]
  },
  {
   "cell_type": "code",
   "execution_count": null,
   "metadata": {},
   "outputs": [],
   "source": [
    "print(my_first_variable - 40)"
   ]
  },
  {
   "cell_type": "markdown",
   "metadata": {},
   "source": [
    "Just be careful if you reuse variable names as this could lead to frustrating bugs. Variables are the most basic part of most languages and allow you to keep track of things. Variables can be named almost anything but cannot start with a number or have nonalphanumeric characters other than _."
   ]
  },
  {
   "cell_type": "code",
   "execution_count": null,
   "metadata": {},
   "outputs": [],
   "source": [
    "2r2d = 'error'"
   ]
  },
  {
   "cell_type": "code",
   "execution_count": null,
   "metadata": {},
   "outputs": [],
   "source": [
    "r2d2 = 'no error'"
   ]
  },
  {
   "cell_type": "markdown",
   "metadata": {},
   "source": [
    "There are also python keywords that you can't be variable names. In jupyter they usually have green syntax highlighting."
   ]
  },
  {
   "cell_type": "code",
   "execution_count": null,
   "metadata": {},
   "outputs": [],
   "source": [
    "def = 43"
   ]
  },
  {
   "cell_type": "markdown",
   "metadata": {},
   "source": [
    "`=` is the assignment operator and not the equality operator. In terms of order of operations, it is last so the right hand side is fully executed and the result is assigned to the variable."
   ]
  },
  {
   "cell_type": "code",
   "execution_count": null,
   "metadata": {},
   "outputs": [],
   "source": [
    "my_third_variable = (100 + 20) / 4 - 8 * 4"
   ]
  },
  {
   "cell_type": "code",
   "execution_count": null,
   "metadata": {},
   "outputs": [],
   "source": [
    "my_third_variable"
   ]
  },
  {
   "cell_type": "markdown",
   "metadata": {},
   "source": [
    "The basic mathmatical operators are listed above. The 2 other operators that are the most useful is `%` which is modulo, you can think about this as the remainder operation. The second is `\\\\` which is integer division or the largest whole number that divisor."
   ]
  },
  {
   "cell_type": "code",
   "execution_count": null,
   "metadata": {},
   "outputs": [],
   "source": [
    "37 // 6"
   ]
  },
  {
   "cell_type": "code",
   "execution_count": null,
   "metadata": {},
   "outputs": [],
   "source": [
    "37 % 6"
   ]
  },
  {
   "cell_type": "code",
   "execution_count": null,
   "metadata": {},
   "outputs": [],
   "source": [
    "# This is a comment\n",
    "'''This is a multiline comment (strangely also works as a multiline string)\n",
    "The basic data types are \n",
    "int\n",
    "float (a decimal number)\n",
    "str (string)\n",
    "bool (True or False)\n",
    "''' \n",
    "float_var = 3.14\n",
    "int_var = 42\n",
    "str_var = 'This is a string.' # Comments go inline too."
   ]
  },
  {
   "cell_type": "code",
   "execution_count": null,
   "metadata": {},
   "outputs": [],
   "source": [
    "float(int_var) # Example of casting - changing the type of a variable"
   ]
  },
  {
   "cell_type": "code",
   "execution_count": null,
   "metadata": {},
   "outputs": [],
   "source": [
    "type(int_var)"
   ]
  },
  {
   "cell_type": "code",
   "execution_count": null,
   "metadata": {},
   "outputs": [],
   "source": [
    "type(float(int_var))"
   ]
  },
  {
   "cell_type": "code",
   "execution_count": null,
   "metadata": {},
   "outputs": [],
   "source": [
    "type(str(int_var))"
   ]
  },
  {
   "cell_type": "code",
   "execution_count": null,
   "metadata": {},
   "outputs": [],
   "source": [
    "str(int_var)"
   ]
  },
  {
   "cell_type": "markdown",
   "metadata": {},
   "source": [
    "### Data Structures - Lists\n",
    "The most basic and important data structure (a data structure is some why of organizing basic data types to create more complex structures) is a list. Lists, as the name suggests, allow us to create lists of basically any other type of data type."
   ]
  },
  {
   "cell_type": "code",
   "execution_count": null,
   "metadata": {},
   "outputs": [],
   "source": [
    "my_number_list = [1, 2, 3, 4]"
   ]
  },
  {
   "cell_type": "code",
   "execution_count": null,
   "metadata": {},
   "outputs": [],
   "source": [
    "my_variable_list = [int_var, float_var, str_var]"
   ]
  },
  {
   "cell_type": "code",
   "execution_count": null,
   "metadata": {},
   "outputs": [],
   "source": [
    "print(my_variable_list)"
   ]
  },
  {
   "cell_type": "code",
   "execution_count": null,
   "metadata": {},
   "outputs": [],
   "source": [
    "print(type(my_variable_list))"
   ]
  },
  {
   "cell_type": "code",
   "execution_count": null,
   "metadata": {},
   "outputs": [],
   "source": [
    "list_of_lists = [\n",
    "    my_number_list,\n",
    "    my_variable_list,\n",
    "    ['this', 'is', 'a', 'list', 'of', 'words', 'stored', 'as', 'strings']\n",
    "]"
   ]
  },
  {
   "cell_type": "code",
   "execution_count": null,
   "metadata": {},
   "outputs": [],
   "source": [
    "print(list_of_lists)"
   ]
  },
  {
   "cell_type": "markdown",
   "metadata": {},
   "source": [
    "A list of list looks quite a bit like a matrix, and you could use a list of lists to implement a matrix, but this turns out to be wildly inefficient. Instead python has a special library for fast matrix computations which we will need later.\n",
    "\n",
    "What are some basic things that we might want to do with a list?\n",
    "\n",
    "How about get specific elements."
   ]
  },
  {
   "cell_type": "code",
   "execution_count": null,
   "metadata": {},
   "outputs": [],
   "source": [
    "my_number_list[1]"
   ]
  },
  {
   "cell_type": "markdown",
   "metadata": {},
   "source": [
    "You might have expected that the number 1 element of `my_number_list` should be 1, but python is 0-indexed which means the first element of a list is element 0. "
   ]
  },
  {
   "cell_type": "code",
   "execution_count": null,
   "metadata": {},
   "outputs": [],
   "source": [
    "my_number_list[0]"
   ]
  },
  {
   "cell_type": "markdown",
   "metadata": {},
   "source": [
    "This is confusing at first but it makes a lot of operations simpler, lots of novice programmer errors are \"off by one\" bugs which are as the name suggests, when you index incorrectly by one element. Be careful when indexing.\n",
    "\n",
    "Some other tricks with indexing are you can use negative numbers to index from the end of the list."
   ]
  },
  {
   "cell_type": "code",
   "execution_count": null,
   "metadata": {},
   "outputs": [],
   "source": [
    "my_number_list[-1]"
   ]
  },
  {
   "cell_type": "markdown",
   "metadata": {},
   "source": [
    "Another important list operation is called splicing. This is useful for taking sublists. Note that the first index is inclusive and the second index is exclusive."
   ]
  },
  {
   "cell_type": "code",
   "execution_count": null,
   "metadata": {},
   "outputs": [],
   "source": [
    "my_number_list[1:3]"
   ]
  },
  {
   "cell_type": "code",
   "execution_count": null,
   "metadata": {},
   "outputs": [],
   "source": [
    "my_number_list[2:]"
   ]
  },
  {
   "cell_type": "code",
   "execution_count": null,
   "metadata": {},
   "outputs": [],
   "source": [
    "my_number_list[:2]"
   ]
  },
  {
   "cell_type": "code",
   "execution_count": null,
   "metadata": {},
   "outputs": [],
   "source": [
    "list_of_lists[-1][-4:]"
   ]
  },
  {
   "cell_type": "code",
   "execution_count": null,
   "metadata": {},
   "outputs": [],
   "source": [
    "len(my_number_list)"
   ]
  },
  {
   "cell_type": "markdown",
   "metadata": {},
   "source": [
    "You might also want to add things to lists as a program is executing"
   ]
  },
  {
   "cell_type": "code",
   "execution_count": null,
   "metadata": {},
   "outputs": [],
   "source": [
    "my_number_list.append(5) # Notice this doesn't return a new list but does the update \"in place\""
   ]
  },
  {
   "cell_type": "code",
   "execution_count": null,
   "metadata": {},
   "outputs": [],
   "source": [
    "my_number_list"
   ]
  },
  {
   "cell_type": "code",
   "execution_count": null,
   "metadata": {},
   "outputs": [],
   "source": [
    "my_number_list + [6, 7, 8, 9] # Whereas here we return a new list"
   ]
  },
  {
   "cell_type": "markdown",
   "metadata": {},
   "source": [
    "Note, you can do the same sort of indexing and slicing on strings."
   ]
  },
  {
   "cell_type": "code",
   "execution_count": null,
   "metadata": {},
   "outputs": [],
   "source": [
    "'merry christmas'[3:7]"
   ]
  },
  {
   "cell_type": "code",
   "execution_count": null,
   "metadata": {},
   "outputs": [],
   "source": [
    "'ho ho ho'[-1]"
   ]
  },
  {
   "cell_type": "markdown",
   "metadata": {},
   "source": [
    "As well as use some mathematical operators on strings"
   ]
  },
  {
   "cell_type": "code",
   "execution_count": null,
   "metadata": {},
   "outputs": [],
   "source": [
    "'ho' * 3"
   ]
  },
  {
   "cell_type": "code",
   "execution_count": null,
   "metadata": {},
   "outputs": [],
   "source": [
    "'merry' + 'christmas'"
   ]
  },
  {
   "cell_type": "markdown",
   "metadata": {},
   "source": [
    "### Comparison Operators\n",
    "\n",
    "Basic logical operators which return a boolean. Predict the output of each cell before running it."
   ]
  },
  {
   "cell_type": "code",
   "execution_count": null,
   "metadata": {},
   "outputs": [],
   "source": [
    "my_first_variable, int_var"
   ]
  },
  {
   "cell_type": "code",
   "execution_count": null,
   "metadata": {},
   "outputs": [],
   "source": [
    "my_first_variable == int_var"
   ]
  },
  {
   "cell_type": "code",
   "execution_count": null,
   "metadata": {},
   "outputs": [],
   "source": [
    "my_first_variable != int_var"
   ]
  },
  {
   "cell_type": "code",
   "execution_count": null,
   "metadata": {},
   "outputs": [],
   "source": [
    "my_first_variable >= int_var"
   ]
  },
  {
   "cell_type": "code",
   "execution_count": null,
   "metadata": {},
   "outputs": [],
   "source": [
    "my_first_variable < int_var"
   ]
  },
  {
   "cell_type": "markdown",
   "metadata": {},
   "source": [
    "Refer to [this](https://www.tutorialspoint.com/python/python_basic_operators.htm) for a full list of operators."
   ]
  },
  {
   "cell_type": "markdown",
   "metadata": {},
   "source": [
    "### Control Flow - Conditionals\n",
    "\n",
    "Conditionals are how you add logic to your programs. They essentially implement if this do that else do that. The python conditional keywords are \n",
    "* `if`\n",
    "* `elif`\n",
    "* `else`\n",
    "\n",
    "where `elif` is equivalent to `else if` and conditional expressions are followed by a : and an indented line.\n"
   ]
  },
  {
   "cell_type": "code",
   "execution_count": null,
   "metadata": {},
   "outputs": [],
   "source": [
    "if 42 > 2:\n",
    "    print('this')\n",
    "else:\n",
    "    print('that')"
   ]
  },
  {
   "cell_type": "markdown",
   "metadata": {},
   "source": [
    "You can chain conditionals together using keywords `and` and `or`. Note that `and` takes execution precendence over `or` so \n",
    "```\n",
    "c1 and c2 or c3 and c4 == (c1 and c2) or (c3 and c4)\n",
    "c1 and c2 or c3 and c4 != ((c1 and c2) or c3) and c4\n",
    "```\n",
    "You can also chain together comparison operators"
   ]
  },
  {
   "cell_type": "code",
   "execution_count": null,
   "metadata": {},
   "outputs": [],
   "source": [
    "my_string = 'hello world'\n",
    "if len(my_string) <= 3:\n",
    "    print('short string')\n",
    "elif 3 < len(my_string) < 10:\n",
    "    print('medium string')\n",
    "else: # equivalent to if len(my_string) >= 10\n",
    "    print('long string')"
   ]
  },
  {
   "cell_type": "markdown",
   "metadata": {},
   "source": [
    "### Control Flow - Loops\n",
    "\n",
    "One superpower of computation is in the ability to iterate. There are two basic types of loops in python, `for` loops and `while` loops.\n",
    "\n",
    "`for` loops are most useful for iterating over data structures like a list.\n",
    "\n",
    "`while` loops are used to iterate until a certain condition is met."
   ]
  },
  {
   "cell_type": "code",
   "execution_count": null,
   "metadata": {},
   "outputs": [],
   "source": [
    "for i in [1,2,3,4]:\n",
    "    print(i)"
   ]
  },
  {
   "cell_type": "code",
   "execution_count": null,
   "metadata": {},
   "outputs": [],
   "source": [
    "for i in range(4): # range function for looping an exact number of times\n",
    "    print(i)"
   ]
  },
  {
   "cell_type": "code",
   "execution_count": null,
   "metadata": {},
   "outputs": [],
   "source": [
    "for i in range(38, 42): # can specify starting integer\n",
    "    print(i)"
   ]
  },
  {
   "cell_type": "code",
   "execution_count": null,
   "metadata": {},
   "outputs": [],
   "source": [
    "my_var = 0\n",
    "while my_var < 5:\n",
    "    my_var += 1 # This is called compound assignment\n",
    "    # It is equivalent to my_var = my_var + 1\n",
    "    # You can do similar things like -=, *=, /=\n",
    "    print(my_var)"
   ]
  },
  {
   "cell_type": "markdown",
   "metadata": {},
   "source": [
    "### Functions\n",
    "\n",
    "While having this logic isolated to cells is fine for demonstration, it isn't reusable and is cumbersome for anything other than a few line of code. Instead most code lives in a function.\n",
    "\n",
    "A function has a name, arguments, a body, and a return value."
   ]
  },
  {
   "cell_type": "code",
   "execution_count": null,
   "metadata": {},
   "outputs": [],
   "source": [
    "# my_first_function is the name\n",
    "def my_first_function(arg1): # arg is the only argument\n",
    "    # What follows is the body\n",
    "    if len(arg1) <= 3:\n",
    "        return 'short string' # A return value\n",
    "    elif 3 < len(arg1) < 10:\n",
    "        return 'medium string' # A return value\n",
    "    else: # equivalent to if len(arg1) >= 10\n",
    "        return 'long string' # A return value"
   ]
  },
  {
   "cell_type": "code",
   "execution_count": null,
   "metadata": {},
   "outputs": [],
   "source": [
    "my_first_function('this seems like a pretty long string')"
   ]
  },
  {
   "cell_type": "code",
   "execution_count": null,
   "metadata": {},
   "outputs": [],
   "source": [
    "my_first_function('bop')"
   ]
  },
  {
   "cell_type": "code",
   "execution_count": null,
   "metadata": {},
   "outputs": [],
   "source": [
    "def gt(arg1, arg2):\n",
    "    return arg1 > arg2"
   ]
  },
  {
   "cell_type": "code",
   "execution_count": null,
   "metadata": {},
   "outputs": [],
   "source": [
    "gt(4, 3)"
   ]
  },
  {
   "cell_type": "code",
   "execution_count": null,
   "metadata": {},
   "outputs": [],
   "source": [
    "gt(3, 3)"
   ]
  },
  {
   "cell_type": "code",
   "execution_count": null,
   "metadata": {},
   "outputs": [],
   "source": [
    "var1 = 10\n",
    "var2 = 4\n",
    "is_var1_gt_var2 = gt(var1, var2)"
   ]
  },
  {
   "cell_type": "code",
   "execution_count": null,
   "metadata": {},
   "outputs": [],
   "source": [
    "print(is_var1_gt_var2)"
   ]
  },
  {
   "cell_type": "markdown",
   "metadata": {},
   "source": [
    "## Exercises\n",
    "\n",
    "Now your turn to practice. You aren't allowed to google the answer but feel free to google syntax questions (although there shouldn't be anything you need that wasn't shown in this notebook). I included test cases so you can know if your implementations are correct.\n",
    "\n",
    "\n",
    "### Q1 Index of element in a list"
   ]
  },
  {
   "cell_type": "code",
   "execution_count": null,
   "metadata": {},
   "outputs": [],
   "source": [
    "def get_index(lst, val):\n",
    "    '''return the index of the first occurence of val in list lst\n",
    "    return -1 if there is no such element in the list'''\n",
    "    raise NotImplementedError"
   ]
  },
  {
   "cell_type": "code",
   "execution_count": null,
   "metadata": {},
   "outputs": [],
   "source": [
    "# You will get an assertion error if you don't pass.\n",
    "# To help debug make a new cell (plus button) and see what your \n",
    "# output is for a test case of your own.\n",
    "assert(get_index([1,2,3,4], 2) == 1)\n",
    "assert(get_index(['the', 'cat', 'is', 'out', 'of', 'the', 'bag'], 'bag') == 6)\n",
    "assert(get_index(['a', 'b', 'c'], 1) == -1)\n",
    "print('All test cases passed!')"
   ]
  },
  {
   "cell_type": "markdown",
   "metadata": {},
   "source": [
    "### Q2 Note names\n",
    "You could imagine storing notes as a string in the format (note)(accidental)(octave number) like \"C#4\" or \"F7\". It would also be handy to store notes as an integer between 0 and 127 (inclusive). Use the semis list to map from note number to note name."
   ]
  },
  {
   "cell_type": "code",
   "execution_count": null,
   "metadata": {},
   "outputs": [],
   "source": [
    "def note_number_to_name(note_number):\n",
    "    \"\"\"Convert a MIDI note number to its name, in the format\n",
    "    ``'(note)(accidental)(octave number)'`` (e.g. ``'C#4'``).\n",
    "    \"\"\"\n",
    "    raise NotImplementedError"
   ]
  },
  {
   "cell_type": "code",
   "execution_count": null,
   "metadata": {},
   "outputs": [],
   "source": [
    "assert(note_number_to_name(11) == 'B-1')\n",
    "assert(note_number_to_name(52) == 'E3')\n",
    "assert(note_number_to_name(118) == 'A#8')\n",
    "print('All test cases passed!')"
   ]
  },
  {
   "cell_type": "markdown",
   "metadata": {},
   "source": [
    "And now from note name to note number."
   ]
  },
  {
   "cell_type": "code",
   "execution_count": null,
   "metadata": {},
   "outputs": [],
   "source": [
    "def note_name_to_number(note_name):\n",
    "    \"\"\"Converts a note name in the format\n",
    "    ``'(note)(accidental)(octave number)'`` (e.g. ``'C#4'``) to MIDI note\n",
    "    number.\n",
    "    \n",
    "    Only consider # Accidental\n",
    "    \"\"\"\n",
    "    raise NotImplementedError"
   ]
  },
  {
   "cell_type": "code",
   "execution_count": null,
   "metadata": {},
   "outputs": [],
   "source": [
    "assert(note_name_to_number('B-1') == 11)\n",
    "assert(note_name_to_number('E3') == 52)\n",
    "assert(note_name_to_number('A#8') == 118)\n",
    "print('All test cases passed!')"
   ]
  },
  {
   "cell_type": "markdown",
   "metadata": {},
   "source": [
    "### Q3 Prime Factors\n",
    "The prime factorization of a natural number is a list of primes such that the product of the list is equal to the number. For instance prime_fact(6) == [2, 3] and prime_fact(27) == [3, 3, 3] and prime_fact(13) = [13]."
   ]
  },
  {
   "cell_type": "code",
   "execution_count": null,
   "metadata": {},
   "outputs": [],
   "source": [
    "def prime_fact(n):\n",
    "    raise NotImplementedError"
   ]
  },
  {
   "cell_type": "code",
   "execution_count": null,
   "metadata": {},
   "outputs": [],
   "source": [
    "assert(prime_fact(11) == [11])\n",
    "assert(prime_fact(4) == [2, 2])\n",
    "assert(prime_fact(124941091240) == [2, 2, 2, 5, 7, 53, 127, 66293])\n",
    "print('All test cases passed!')"
   ]
  },
  {
   "cell_type": "markdown",
   "metadata": {},
   "source": [
    "### Q4 Spare Change Combinations\n",
    "\n",
    "This is the trickiest question thus far, but remember the power of iteration."
   ]
  },
  {
   "cell_type": "code",
   "execution_count": null,
   "metadata": {},
   "outputs": [],
   "source": [
    "def change_combinations(n_cents):\n",
    "    '''Return the number of ways you can combine a\n",
    "    penny, nickel, dime, and quarter to make n_cents.'''\n",
    "    raise NotImplementedError"
   ]
  },
  {
   "cell_type": "code",
   "execution_count": null,
   "metadata": {},
   "outputs": [],
   "source": [
    "assert(change_combinations(1) == 1)\n",
    "assert(change_combinations(10) == 4)\n",
    "assert(change_combinations(25) == 13)\n",
    "assert(change_combinations(100) == 242)\n",
    "print('All test cases passed!')"
   ]
  },
  {
   "cell_type": "markdown",
   "metadata": {},
   "source": [
    "Congrats! If you got this far then you have the basics down!"
   ]
  }
 ],
 "metadata": {
  "kernelspec": {
   "display_name": "Python [conda env:midi] *",
   "language": "python",
   "name": "conda-env-midi-py"
  },
  "language_info": {
   "codemirror_mode": {
    "name": "ipython",
    "version": 3
   },
   "file_extension": ".py",
   "mimetype": "text/x-python",
   "name": "python",
   "nbconvert_exporter": "python",
   "pygments_lexer": "ipython3",
   "version": "3.6.9"
  }
 },
 "nbformat": 4,
 "nbformat_minor": 2
}
