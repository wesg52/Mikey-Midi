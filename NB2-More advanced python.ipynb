{
 "cells": [
  {
   "cell_type": "markdown",
   "metadata": {},
   "source": [
    "# Notebook 2\n",
    "\n",
    "In this notebook we will go over more data structures, classes and objects, and basic numpy.\n",
    "\n",
    "### Data Structures - Dictionaries\n",
    "\n",
    "The next most important data structure is a dictionary. You could think of a dictionary as a generalization of a list where instead of storing data indexed by a numerical sequence of integers (i.e. 0,...,n) you can index by almost anything.\n",
    "\n",
    "For instance imagine you a had a bunch of instruments and you wanted to restrict the range of pitches they could go. It would look something like this."
   ]
  },
  {
   "cell_type": "code",
   "execution_count": null,
   "metadata": {},
   "outputs": [],
   "source": [
    "range_dictionary = {\n",
    "    'tuba': (100, 127), # Remebember 128 notes but 0-indexed\n",
    "    'flute': (0, 60),\n",
    "    'piano': (0, 127),\n",
    "    'trumpet': (20, 100)\n",
    "}"
   ]
  },
  {
   "cell_type": "code",
   "execution_count": null,
   "metadata": {},
   "outputs": [],
   "source": [
    "type(range_dictionary)"
   ]
  },
  {
   "cell_type": "code",
   "execution_count": null,
   "metadata": {},
   "outputs": [],
   "source": [
    "range_dictionary['tuba']"
   ]
  },
  {
   "cell_type": "code",
   "execution_count": null,
   "metadata": {},
   "outputs": [],
   "source": [
    "type(range_dictionary['tuba'])"
   ]
  },
  {
   "cell_type": "markdown",
   "metadata": {},
   "source": [
    "Tuple is another new type. It is essentially like a list except it is immutable which means you can't change it. Tuples are useful to carry small packets of information that should be carried together and remain unchanged, like a max and min pitch."
   ]
  },
  {
   "cell_type": "code",
   "execution_count": null,
   "metadata": {},
   "outputs": [],
   "source": [
    "def is_valid_note(range_dict, instrument, pitch):\n",
    "    # This double assignment would work with lists too\n",
    "    min_pitch, max_pitch = range_dict[instrument]\n",
    "    return min_pitch <= pitch <= max_pitch"
   ]
  },
  {
   "cell_type": "code",
   "execution_count": null,
   "metadata": {},
   "outputs": [],
   "source": [
    "is_valid_note(range_dictionary, 'flute', 80)"
   ]
  },
  {
   "cell_type": "code",
   "execution_count": null,
   "metadata": {},
   "outputs": [],
   "source": [
    "is_valid_note(range_dictionary, 'trumpet', 80)"
   ]
  },
  {
   "cell_type": "code",
   "execution_count": null,
   "metadata": {},
   "outputs": [],
   "source": [
    "# You'll get this error a lot in life\n",
    "is_valid_note(range_dictionary, 'guitar', 80) "
   ]
  },
  {
   "cell_type": "markdown",
   "metadata": {},
   "source": [
    "## Object Oriented Programming\n",
    "\n",
    "OO is the dominant programming paradigm. It is a way of abstracting complexity behind a simpler interface. \n",
    "\n",
    "While lists and dictionaries represent simple data structures that let you call some basic functions like `len` or indexing (which under the hood gets translated to a fuction `__getitiem__`, objects are like super data structures where you can add much more functionality like class variables and methods (which is the same thing as a function but is used as the terminology when a function belongs to a class). Objects are instantiations of classes. So you define a class like `list` and then the variable `my_list` would be an object of type `list`.\n",
    "\n",
    "Lets create and example."
   ]
  },
  {
   "cell_type": "code",
   "execution_count": null,
   "metadata": {},
   "outputs": [],
   "source": [
    "#Notice use of uppercase in name\n",
    "class TestClass:\n",
    "    def __init__(self, class_arg1):\n",
    "        '''This is where you define the initialization for a class.\n",
    "        You have to define this method whenever you make a new class.\n",
    "        \n",
    "        self is the required first argument of every function.\n",
    "        The self arugment means the object that is me'''\n",
    "        \n",
    "        print('starting initialization')\n",
    "        self.my_class_variable = class_arg1\n",
    "        self.my_class_constant = 42\n",
    "        print('ended initialization')\n",
    "        # You don't return in __init__\n",
    "        \n",
    "    def set_class_var(self, new_val):\n",
    "        self.my_class_variable = new_val\n",
    "        # not all functions return, in Java this is called void\n",
    "        \n",
    "    def get_class_var(self):\n",
    "        return self.my_class_variable\n",
    "    \n",
    "    \n",
    "    def multiply_by_class_constant(n):\n",
    "        return n * self.my_class_constant\n",
    "        "
   ]
  },
  {
   "cell_type": "code",
   "execution_count": null,
   "metadata": {},
   "outputs": [],
   "source": [
    "test_obj = TestClass('this is a string and class_arg1')"
   ]
  },
  {
   "cell_type": "code",
   "execution_count": null,
   "metadata": {},
   "outputs": [],
   "source": [
    "type(test_obj)"
   ]
  },
  {
   "cell_type": "code",
   "execution_count": null,
   "metadata": {},
   "outputs": [],
   "source": [
    "# The self argument is added automatically by dot notation\n",
    "# obj.func()\n",
    "test_obj.get_class_var()"
   ]
  },
  {
   "cell_type": "code",
   "execution_count": null,
   "metadata": {},
   "outputs": [],
   "source": [
    "test_obj.set_class_var('new class var')"
   ]
  },
  {
   "cell_type": "code",
   "execution_count": null,
   "metadata": {},
   "outputs": [],
   "source": [
    "test_obj.get_class_var()"
   ]
  },
  {
   "cell_type": "code",
   "execution_count": null,
   "metadata": {},
   "outputs": [],
   "source": [
    "'''Instead of defining \"getter\" and \"setter\" methods, you can just\n",
    "alter the class variables directly.'''\n",
    "test_obj.my_class_variable = 'direct setting'\n",
    "print(test_obj.my_class_variable)"
   ]
  },
  {
   "cell_type": "code",
   "execution_count": null,
   "metadata": {},
   "outputs": [],
   "source": [
    "no_return_type_test = test_obj.set_class_var('test')"
   ]
  },
  {
   "cell_type": "code",
   "execution_count": null,
   "metadata": {},
   "outputs": [],
   "source": [
    "print(no_return_type_test)"
   ]
  },
  {
   "cell_type": "code",
   "execution_count": null,
   "metadata": {},
   "outputs": [],
   "source": [
    "type(no_return_type_test)"
   ]
  },
  {
   "cell_type": "code",
   "execution_count": null,
   "metadata": {},
   "outputs": [],
   "source": [
    "# Fix the error\n",
    "test_obj.multiply_by_class_constant(2)"
   ]
  },
  {
   "cell_type": "markdown",
   "metadata": {},
   "source": [
    "The above was a very contrived example but it is nonetheless representative of all the basic operations you might want to do with a class or object. In reality the functions and class variables are more complicated and useful."
   ]
  },
  {
   "cell_type": "markdown",
   "metadata": {},
   "source": [
    "### Packages - numpy\n",
    "\n",
    "Now because literally everything is a matrix, I have to show you the python matrix library. This isn't only because I think matrices are important but because most music processing libraries use numpy as a backend to store data.\n",
    "\n",
    "Numpy is not a part of standard python so we have to import it. Typically you need a lot of specialized libraries when you are coding to do anything specific. You'll note that numpy was in the list of dependencies in the enviroment.yml file so it is in your midi environment.\n",
    "\n",
    "Packages use the same dot-notation as objects. We add `as np` because its easier to type np.multiply rather than numpy.multiply (software engineers are in the business of saving key strokes anywhere neccesary)."
   ]
  },
  {
   "cell_type": "code",
   "execution_count": null,
   "metadata": {},
   "outputs": [],
   "source": [
    "import numpy as np"
   ]
  },
  {
   "cell_type": "markdown",
   "metadata": {},
   "source": [
    "Now there are decent intro numpy tutorials online so I am going to link to [one](https://hackernoon.com/introduction-to-numpy-1-an-absolute-beginners-guide-to-machine-learning-and-data-science-5d87f13f0d51) and you should read through that.\n",
    "\n",
    "The one thing I am going to show you is why you need numpy instead of just using lists. First I need three more packages."
   ]
  },
  {
   "cell_type": "code",
   "execution_count": null,
   "metadata": {},
   "outputs": [],
   "source": [
    "# The random package is in what is called the \"standard library.\"\n",
    "# Standard library packages are packages that are installed\n",
    "# automatically when you install python unlike numpy which you\n",
    "# need to install.\n",
    "\n",
    "# For drawing random samples\n",
    "import random\n",
    "\n",
    "# For timing\n",
    "import time\n",
    "\n",
    "# A plotting library\n",
    "import matplotlib.pyplot as plt\n",
    "\n",
    "#For making matplotlib work better in jupyter\n",
    "%matplotlib inline"
   ]
  },
  {
   "cell_type": "code",
   "execution_count": null,
   "metadata": {},
   "outputs": [],
   "source": [
    "# Try running this cell a bunch of times\n",
    "random.random()"
   ]
  },
  {
   "cell_type": "code",
   "execution_count": null,
   "metadata": {},
   "outputs": [],
   "source": [
    "def create_random_list_and_vector(n):\n",
    "    # Create random list vector of size n\n",
    "    test_list = [random.random() for i in range(n)]\n",
    "    '''\n",
    "    This is call list comprehension and is a more advanced syntax.\n",
    "    It is equivalent to\n",
    "    test_list = []\n",
    "    for i in range(100000):\n",
    "        test_list.append(random.random())'''\n",
    "    # Create a numpy array of same vector\n",
    "    test_vector = np.array(test_list)\n",
    "    \n",
    "    return test_list, test_vector"
   ]
  },
  {
   "cell_type": "code",
   "execution_count": null,
   "metadata": {},
   "outputs": [],
   "source": [
    "def list_dot_product(l1, l2):\n",
    "    # zip handy function for iterating over multiple lists\n",
    "    dot_product = 0\n",
    "    for e1, e2 in zip(l1, l2): \n",
    "        dot_product += e1 * e2\n",
    "    return dot_product"
   ]
  },
  {
   "cell_type": "code",
   "execution_count": null,
   "metadata": {},
   "outputs": [],
   "source": [
    "# This cell will take a few seconds to execute\n",
    "\n",
    "\n",
    "start_val = 1000\n",
    "# ** is exponentiation\n",
    "trial_sizes = [start_val * 2**i for i in range(10)] \n",
    "\n",
    "n_trials = 10\n",
    "list_times = []\n",
    "np_times = []\n",
    "# The third argument in range is the step\n",
    "# Create a new cell and try to play with the step argument\n",
    "for n in trial_sizes:\n",
    "    list_trial_times = []\n",
    "    np_trial_times = []\n",
    "    for trial in range(n_trials):\n",
    "        # Create random vectors\n",
    "        l1, v1 = create_random_list_and_vector(n)\n",
    "        l2, v2 = create_random_list_and_vector(n)\n",
    "        \n",
    "        # Time list dot product\n",
    "        list_dot_start = time.time()\n",
    "        list_dot_product(l1, l2)\n",
    "        list_dot_time = time.time() - list_dot_start\n",
    "        list_trial_times.append(list_dot_time)\n",
    "        \n",
    "        # Time numpy dot product\n",
    "        np_dot_start = time.time()\n",
    "        np.dot(v1, v2)\n",
    "        np_dot_time = time.time() - np_dot_start\n",
    "        np_trial_times.append(np_dot_time)\n",
    "    \n",
    "    # Take the average over n_trials\n",
    "    list_times.append(np.array(list_trial_times).mean())\n",
    "    np_times.append(np.array(np_trial_times).mean())\n",
    "    "
   ]
  },
  {
   "cell_type": "code",
   "execution_count": null,
   "metadata": {},
   "outputs": [],
   "source": [
    "plt.plot(list_times)\n",
    "plt.plot(np_times)\n",
    "plt.legend(['list dot product', 'numpy dot product'])"
   ]
  },
  {
   "cell_type": "markdown",
   "metadata": {},
   "source": [
    "You can imagine that if you are running an application with a lot of linear algebra (and since everything is a matrix, this is a lot of important applications) that this can make a 10000x or greater speed improvement."
   ]
  },
  {
   "cell_type": "markdown",
   "metadata": {},
   "source": [
    "## Exercises\n",
    "\n",
    "### Q1 Instrument matrix to dictionary\n",
    "\n",
    "Here we are going to explore two common data structures for storing musical notes, one is a time-pitch matrix (commonly referred to as a pianoroll) and another is a MIDI tuple list which is a list of tuples where each tuple is of the format (velocity, pitch, start, end) where velocity means volume. Each of these take the following constraints \n",
    "* velocity : integer $\\in$ [0, 127]   # the $\\in$ symbol means \"in\" in math\n",
    "* pitch : integer $\\in$ [0, 127]\n",
    "* start : float > 0\n",
    "* end : float > 0 and >= start\n",
    "\n",
    "and the list is in order of start time.\n",
    "\n",
    "A time pitch matrix splits up time (which is continuous) into discrete chunks. So you might split 1 second into 16 chunks and each column of the matrix records the notes played at this time quantum. You could also split a measure into say 64 chunks and then specify a beats per minute. The rows then represent pitches so a value $v$ at row $i$ and column $j$ encodes a note of pitch $i$ is played at timestep $j$ with velocity $v$. One shortcoming with this approach is that it is ambigious if $A_{ij}$ == $A_{ij+1}$ > 0 is this 2 notes or 1 long note?\n",
    "\n",
    "For simplicity lets just assume it is 2 short notes. The problem is to convert a time pitch matrix into a tuple list. And so its easier to test lets just imagine 4 pitches but this function should be able to work on a matrix of arbitrary dimensions."
   ]
  },
  {
   "cell_type": "code",
   "execution_count": null,
   "metadata": {},
   "outputs": [],
   "source": [
    "def pianoroll_to_midi_list(roll, time_step_length):\n",
    "    # Roll is an nxm numpy array\n",
    "    raise NotImplementedError\n",
    "                "
   ]
  },
  {
   "cell_type": "code",
   "execution_count": null,
   "metadata": {},
   "outputs": [],
   "source": [
    "test_roll1 = np.array([\n",
    "    [12, 0, 0, 0, 4, 0, 40, 0, 0, 0, 0, 60, 0, 0, 0, 0, 0, 100],\n",
    "    [0, 0, 20, 0, 0, 0, 0, 40, 0, 0, 0, 0, 60, 0, 0, 0, 0, 0],\n",
    "    [0, 0, 0, 20, 0, 0, 0, 0, 40, 0, 0, 0, 0, 60, 0, 0, 0, 0],\n",
    "    [0, 0, 0, 0, 20, 0, 0, 0, 0, 40, 0, 0, 0, 0, 60, 0, 0, 0],\n",
    "])\n",
    "\n",
    "test_list1 = [\n",
    " (12, 0, 0.0, 0.01),\n",
    " (20, 1, 0.02, 0.03),\n",
    " (20, 2, 0.03, 0.04),\n",
    " (4, 0, 0.04, 0.05),\n",
    " (20, 3, 0.04, 0.05),\n",
    " (40, 0, 0.06, 0.07),\n",
    " (40, 1, 0.07, 0.08),\n",
    " (40, 2, 0.08, 0.09),\n",
    " (40, 3, 0.09, 0.1),\n",
    " (60, 0, 0.11, 0.12),\n",
    " (60, 1, 0.12, 0.13),\n",
    " (60, 2, 0.13, 0.14),\n",
    " (60, 3, 0.14, 0.15),\n",
    " (100, 0, 0.17, 0.18)]\n",
    "\n",
    "test_roll2 = np.array([\n",
    "    [0, 0, 0, 0, 4, 0, 0, 0, 0, 0, 0, 0, 0, 0, 0, 0, 0, 0, 0, 0],\n",
    "    [0, 100, 0, 0, 0, 0, 0, 20, 0, 0, 0, 0, 0, 0, 0, 50, 0, 0, 0, 0],\n",
    "    [0, 0, 0, 0, 10, 0, 0, 0, 0, 0, 0, 0, 0, 0, 0, 0, 50, 0, 0, 0],\n",
    "    [0, 100, 0, 0, 0, 0, 0, 0, 0, 0, 0, 20, 0, 0, 0, 0, 0, 0, 0, 100],\n",
    "    [0, 0, 0, 0, 0, 0, 0, 0, 0, 0, 0, 0, 0, 0, 0, 0, 0, 0, 0, 0],\n",
    "    [0, 0, 0, 0, 10, 0, 0, 0, 0, 0, 0, 0, 0, 0, 0, 0, 50, 0, 0, 0],\n",
    "])\n",
    "\n",
    "test_list2 = [\n",
    " (100, 1, 0.01, 0.02),\n",
    " (100, 3, 0.01, 0.02),\n",
    " (4, 0, 0.04, 0.05),\n",
    " (10, 2, 0.04, 0.05),\n",
    " (10, 5, 0.04, 0.05),\n",
    " (20, 1, 0.07, 0.08),\n",
    " (20, 3, 0.11, 0.12),\n",
    " (50, 1, 0.15, 0.16),\n",
    " (50, 2, 0.16, 0.17),\n",
    " (50, 5, 0.16, 0.17),\n",
    " (100, 3, 0.19, 0.2)]"
   ]
  },
  {
   "cell_type": "code",
   "execution_count": null,
   "metadata": {},
   "outputs": [],
   "source": [
    "assert(pianoroll_to_midi_list(test_roll1, .01) == test_list1)\n",
    "assert(pianoroll_to_midi_list(test_roll2, .01) == test_list2)\n",
    "print('All test cases passed!')"
   ]
  },
  {
   "cell_type": "markdown",
   "metadata": {},
   "source": [
    "### Song class\n",
    "\n",
    "The problem here is to define a song class. The song class is initialized with information like how much time a time step corresponds to. You then add instruments. Then there is a play method which prints out the instrument and notes that is being played. This should be played in real time corresponding to the time step (look at the time.sleep() command to implement this)."
   ]
  },
  {
   "cell_type": "code",
   "execution_count": null,
   "metadata": {},
   "outputs": [],
   "source": [
    "class Song:\n",
    "    def __init__(self, time_step_length):\n",
    "        '''For initializing class variable'''\n",
    "        raise NotImplementedError\n",
    "        \n",
    "    def add_instrument(self, name, time_pitch_matrix):\n",
    "        '''Update class variables to store name and time_pitch_matrix'''\n",
    "        raise NotImplementedError\n",
    "        \n",
    "    def max_time_steps(self):\n",
    "        '''Calculate the max number of time steps for class variables\n",
    "        \n",
    "        Hint: the max function is standard python'''\n",
    "        raise NotImplementedError\n",
    "        \n",
    "    def play(self):\n",
    "        '''Print a song in time.\n",
    "        \n",
    "        Hint: I used functions\n",
    "        dict.items()\n",
    "        time.sleep()\n",
    "        and the continue keyword\n",
    "        and to get column i of a matrix is A[:, i]'''\n",
    "        raise NotImplementedError"
   ]
  },
  {
   "cell_type": "code",
   "execution_count": null,
   "metadata": {},
   "outputs": [],
   "source": [
    "guitar_line = np.array([\n",
    "    [12, 0, 0, 0, 4, 0, 40, 0, 0, 0, 0, 60, 0, 0, 0, 0, 0, 100],\n",
    "    [0, 0, 20, 0, 0, 0, 0, 40, 0, 0, 0, 0, 60, 0, 0, 0, 0, 0],\n",
    "    [0, 0, 0, 20, 0, 0, 0, 0, 40, 0, 0, 0, 0, 60, 0, 0, 0, 0],\n",
    "    [0, 0, 0, 0, 20, 0, 0, 0, 0, 40, 0, 0, 0, 0, 60, 0, 0, 0],\n",
    "])\n",
    "piano_line = np.array([\n",
    "    [0, 0, 0, 0, 4, 0, 0, 0, 0, 0, 0, 0, 0, 0, 0, 0, 0, 0, 0, 0],\n",
    "    [0, 100, 0, 0, 0, 0, 0, 20, 0, 0, 0, 0, 0, 0, 0, 50, 0, 0, 0, 0],\n",
    "    [0, 0, 0, 0, 10, 0, 0, 0, 0, 0, 0, 0, 0, 0, 0, 0, 50, 0, 0, 0],\n",
    "    [0, 100, 0, 0, 0, 0, 0, 0, 0, 0, 0, 20, 0, 0, 0, 0, 0, 0, 0, 100],\n",
    "    [0, 0, 0, 0, 0, 0, 0, 0, 0, 0, 0, 0, 0, 0, 0, 0, 0, 0, 0, 0],\n",
    "    [0, 0, 0, 0, 10, 0, 0, 0, 0, 0, 0, 0, 0, 0, 0, 0, 50, 0, 0, 0],\n",
    "])"
   ]
  },
  {
   "cell_type": "code",
   "execution_count": null,
   "metadata": {},
   "outputs": [],
   "source": [
    "song = Song(.5)\n",
    "song.add_instrument('guitar', guitar_line)\n",
    "song.add_instrument('piano', piano_line)"
   ]
  },
  {
   "cell_type": "code",
   "execution_count": null,
   "metadata": {},
   "outputs": [],
   "source": [
    "song.play()"
   ]
  },
  {
   "cell_type": "markdown",
   "metadata": {},
   "source": [
    "No test cases but you should get output something like this <br/>\n",
    "guitar : 12 0 0.0 0.5 <br/>\n",
    "piano : 100 1 0.5 1.0 <br/>\n",
    "piano : 100 3 0.5 1.0 <br/>\n",
    "guitar : 20 1 1.0 1.5 <br/>\n",
    "guitar : 20 2 1.5 2.0 <br/>\n",
    "guitar : 4 0 2.0 2.5 <br/>\n",
    "guitar : 20 3 2.0 2.5 <br/>\n",
    "piano : 4 0 2.0 2.5 <br/>\n",
    "piano : 10 2 2.0 2.5 <br/>\n",
    "piano : 10 5 2.0 2.5 <br/>\n",
    "guitar : 40 0 3.0 3.5 <br/>\n",
    "guitar : 40 1 3.5 4.0 <br/>\n",
    "piano : 20 1 3.5 4.0 <br/>\n",
    "guitar : 40 2 4.0 4.5 <br/>\n",
    "guitar : 40 3 4.5 5.0 <br/>\n",
    "guitar : 60 0 5.5 6.0 <br/>\n",
    "piano : 20 3 5.5 6.0 <br/>\n",
    "guitar : 60 1 6.0 6.5 <br/>\n",
    "guitar : 60 2 6.5 7.0 <br/>\n",
    "guitar : 60 3 7.0 7.5 <br/>\n",
    "piano : 50 1 7.5 8.0 <br/>\n",
    "piano : 50 2 8.0 8.5 <br/>\n",
    "piano : 50 5 8.0 8.5 <br/>\n",
    "guitar : 100 0 8.5 9.0 <br/>\n",
    "piano : 100 3 9.5 10.0 <br/>\n",
    "where it takes about 10 seconds to complete."
   ]
  }
 ],
 "metadata": {
  "kernelspec": {
   "display_name": "Python [conda env:midi] *",
   "language": "python",
   "name": "conda-env-midi-py"
  },
  "language_info": {
   "codemirror_mode": {
    "name": "ipython",
    "version": 3
   },
   "file_extension": ".py",
   "mimetype": "text/x-python",
   "name": "python",
   "nbconvert_exporter": "python",
   "pygments_lexer": "ipython3",
   "version": "3.6.9"
  }
 },
 "nbformat": 4,
 "nbformat_minor": 2
}
