{
 "cells": [
  {
   "cell_type": "markdown",
   "metadata": {},
   "source": [
    "# Notebook 3\n",
    "\n",
    "It is time to get to some real Midi files!\n",
    "\n",
    "I've only had one cup of coffee today and I am two beers deep and it's midnight so lets see how coherent I can be...\n",
    "\n",
    "First lets start by getting some actual midi files.\n",
    "\n",
    "### Packages - requests\n",
    "\n",
    "The requests package is used to connect python to the internet. You can use it for web scraping or sending data to websites or downloading files.\n",
    "\n",
    "### Packages - os\n",
    "The os package is in the standard library and is used to connect python to your operating system."
   ]
  },
  {
   "cell_type": "code",
   "execution_count": null,
   "metadata": {},
   "outputs": [],
   "source": [
    "import os\n",
    "import requests\n",
    "import numpy as np"
   ]
  },
  {
   "cell_type": "code",
   "execution_count": null,
   "metadata": {},
   "outputs": [],
   "source": [
    "# Make a new directory to store midi data\n",
    "os.mkdir('midis')"
   ]
  },
  {
   "cell_type": "code",
   "execution_count": null,
   "metadata": {},
   "outputs": [],
   "source": [
    "url = 'https://bitmidi.com/uploads/87216.mid'\n",
    "r = requests.get(url, allow_redirects=True)\n",
    "open('midis/br.mid', 'wb').write(r.content)"
   ]
  },
  {
   "cell_type": "markdown",
   "metadata": {},
   "source": [
    "Take a listen with your laptops music player to see what it is.\n",
    "\n",
    "### Packages - pretty_midi\n",
    "\n",
    "Now finally we are going to get to a proper music package. I don't know if pretty_midi is the best midi package but I have used it before and it seemed to have the basics down.\n",
    "\n",
    "First we are going to load in the midi file and then we will do some analysis and make some modifications."
   ]
  },
  {
   "cell_type": "code",
   "execution_count": null,
   "metadata": {},
   "outputs": [],
   "source": [
    "import pretty_midi"
   ]
  },
  {
   "cell_type": "code",
   "execution_count": null,
   "metadata": {},
   "outputs": [],
   "source": [
    "# Load MIDI file into PrettyMIDI object\n",
    "midi_data = pretty_midi.PrettyMIDI('midis/br.mid')"
   ]
  },
  {
   "cell_type": "code",
   "execution_count": null,
   "metadata": {},
   "outputs": [],
   "source": [
    "midi_data.estimate_tempo() # This seems wrong lol"
   ]
  },
  {
   "cell_type": "code",
   "execution_count": null,
   "metadata": {},
   "outputs": [],
   "source": [
    "# Compute the relative amount of each semitone across the entire song, a proxy for key\n",
    "total_velocity = sum(sum(midi_data.get_chroma()))\n",
    "semi_use = [sum(semitone)/total_velocity for semitone in midi_data.get_chroma()]"
   ]
  },
  {
   "cell_type": "code",
   "execution_count": null,
   "metadata": {},
   "outputs": [],
   "source": [
    "semi_use"
   ]
  },
  {
   "cell_type": "code",
   "execution_count": null,
   "metadata": {},
   "outputs": [],
   "source": [
    "np.argmax(np.array(semi_use)) # Pretty midi had C as first semi so this seems right"
   ]
  },
  {
   "cell_type": "code",
   "execution_count": null,
   "metadata": {},
   "outputs": [],
   "source": [
    "# Shift all notes up by 5 semitones\n",
    "for instrument in midi_data.instruments:\n",
    "    # Don't want to shift drum notes\n",
    "    if not instrument.is_drum:\n",
    "        for note in instrument.notes:\n",
    "            note.pitch += 5"
   ]
  },
  {
   "cell_type": "code",
   "execution_count": null,
   "metadata": {},
   "outputs": [],
   "source": [
    "midi_data.write('midis/br_up5.mid')"
   ]
  },
  {
   "cell_type": "markdown",
   "metadata": {},
   "source": [
    "Now lets create something from scratch."
   ]
  },
  {
   "cell_type": "code",
   "execution_count": null,
   "metadata": {},
   "outputs": [],
   "source": [
    "cello_c_chord = pretty_midi.PrettyMIDI()\n",
    "# Create an Instrument instance for a cello instrument\n",
    "cello_program = pretty_midi.instrument_name_to_program('Cello')\n",
    "cello = pretty_midi.Instrument(program=cello_program)\n",
    "# Iterate over note names, which will be converted to note number later\n",
    "for note_name in ['C7', 'E7', 'G7']:\n",
    "    # Retrieve the MIDI note number for this note name\n",
    "    note_number = pretty_midi.note_name_to_number(note_name)\n",
    "    # Create a Note instance for this note, starting at 0s and ending at .5s\n",
    "    note = pretty_midi.Note(velocity=100, pitch=note_number, start=0, end=.5)\n",
    "    # Add it to our cello instrument\n",
    "    cello.notes.append(note)\n",
    "# Add the cello instrument to the PrettyMIDI object\n",
    "cello_c_chord.instruments.append(cello)\n",
    "# Write out the MIDI data\n",
    "cello_c_chord.write('cello-C-chord.mid')"
   ]
  },
  {
   "cell_type": "markdown",
   "metadata": {},
   "source": [
    "## Exercises\n",
    "\n",
    "### Q1 Write a beautiful song\n",
    "\n",
    "There will be no solution...\n",
    "\n",
    "But seriously, I am at the end of my expertise and at the beginning of yours. I hope you can see how powerful these tools are in even the silly examples I was able to come up with. The way you learn how to use most packages (especially if they aren't super popular) is to just read the github documentation, and when it is a really rough package, just read the code.\n",
    "\n",
    "You should study the pretty midi [documentation](http://craffel.github.io/pretty-midi/) more if you want to understand better how to use it. I don't really know what to look for or what you would want to do but it seemed like [pyo](http://ajaxsoundstudio.com/pyodoc/) was another library that you might want to check out and it should already be installed.\n",
    "\n",
    "I hope you found this enlightening rather than a chore. Obviously happy to help you if you want to learn more or have some project idea but don't know how to start.\n",
    "\n",
    "Merry christmas."
   ]
  }
 ],
 "metadata": {
  "kernelspec": {
   "display_name": "Python [conda env:midi] *",
   "language": "python",
   "name": "conda-env-midi-py"
  },
  "language_info": {
   "codemirror_mode": {
    "name": "ipython",
    "version": 3
   },
   "file_extension": ".py",
   "mimetype": "text/x-python",
   "name": "python",
   "nbconvert_exporter": "python",
   "pygments_lexer": "ipython3",
   "version": "3.6.9"
  }
 },
 "nbformat": 4,
 "nbformat_minor": 2
}
